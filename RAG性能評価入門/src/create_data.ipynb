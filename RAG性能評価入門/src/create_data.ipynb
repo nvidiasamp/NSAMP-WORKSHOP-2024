{
 "cells": [
  {
   "cell_type": "code",
   "execution_count": null,
   "metadata": {},
   "outputs": [],
   "source": [
    "import os\n",
    "import asyncio\n",
    "import nest_asyncio\n",
    "from openai import AsyncOpenAI\n",
    "\n",
    "NVIDIA_API_KEY = os.getenv(\"NVIDIA_API_KEY\")"
   ]
  },
  {
   "cell_type": "markdown",
   "metadata": {},
   "source": [
    "### 合成データ生成用プロンプトの設定"
   ]
  },
  {
   "cell_type": "code",
   "execution_count": null,
   "metadata": {},
   "outputs": [],
   "source": [
    "client = AsyncOpenAI(\n",
    "    base_url=\"https://integrate.api.nvidia.com/v1\",\n",
    "    api_key=NVIDIA_API_KEY,  # 取得したAPIキーを入力してください\n",
    ")\n",
    "\n",
    "TOPIC_GENERATION_PROMPT_TEMPLATE = \"\"\"\\\n",
    "トピックが与えられた場合、そのトピックに関連する {n_subtopics} のサブトピックのリストを生成してください。\n",
    "トピックは：{topic}\n",
    "リストは番号なしで、サブトピックの説明なしでなければなりません。サブトピックはコンマで区切られる必要があります。リスト以外のテキストは存在してはなりません。\n",
    "\"\"\"\n",
    "\n",
    "QUESTION_PROMPT_TEMPLATE = \"\"\"\\\n",
    "トピックが与えられた場合、そのトピックに関して{n_questions}個の質問を生成してください。\n",
    "トピックは：{sub_topic}\n",
    "リスト形式で、質問は改行文字で区切られる必要があります。リスト以外のテキストは存在してはなりません。\n",
    "\"\"\"\n",
    "\n",
    "RESPONSE_PROMPT_TEMPLATE = \"\"\"\\\n",
    "質問が与えられた場合、その質問に対して考えられる2つの回答を生成してください。\n",
    "質問は：{question}\n",
    "リスト形式は以下の形式である必要があります：\n",
    "\n",
    "RESPONSE A: ここに回答Aのテキストを入力\n",
    "RESPONSE B: ここに回答Bのテキストを入力\n",
    "\"\"\""
   ]
  },
  {
   "cell_type": "markdown",
   "metadata": {},
   "source": [
    "### トピックを設定し、サブトピックを生成"
   ]
  },
  {
   "cell_type": "code",
   "execution_count": null,
   "metadata": {},
   "outputs": [
    {
     "name": "stdout",
     "output_type": "stream",
     "text": [
      "['グラフィックカード、人工知能、ディープラーニング、ゲーミング、GPU、CUDA、TensorFlow、NVIDIA Shield、オートモーティブ、プロフェッショナルビジュアライゼーション']\n"
     ]
    }
   ],
   "source": [
    "# generate sub topics\n",
    "async def generate_subtopics(client, topic, n_subtopics):\n",
    "    prompt = TOPIC_GENERATION_PROMPT_TEMPLATE.format(\n",
    "        topic=topic, n_subtopics=n_subtopics\n",
    "    )\n",
    "    response = await client.chat.completions.create(\n",
    "        model=\"meta/llama-3.1-405b-instruct\",\n",
    "        messages=[{\"role\": \"user\", \"content\": prompt}],\n",
    "        temperature=0.2,\n",
    "        top_p=0.7,\n",
    "        max_tokens=1024,\n",
    "    )\n",
    "    return response\n",
    "\n",
    "\n",
    "n_subtopics = 10\n",
    "n_questions = 10\n",
    "topic = \"NVIDIA\"\n",
    "\n",
    "subtopics = await generate_subtopics(client, topic, n_subtopics)\n",
    "subtopic_list = subtopics.choices[0].message.content.split(\",\")\n",
    "print(subtopic_list)"
   ]
  },
  {
   "cell_type": "markdown",
   "metadata": {},
   "source": [
    "### サブトピックに関する質問文を生成"
   ]
  },
  {
   "cell_type": "code",
   "execution_count": 35,
   "metadata": {},
   "outputs": [
    {
     "name": "stdout",
     "output_type": "stream",
     "text": [
      "['グラフィックカードの主な機能は何か？\\n\\n人工知能とディープラーニングの違いは何か？\\n\\nゲーミングに最適なGPUは何か？\\n\\nCUDAとは何か？\\n\\nTensorFlowはどのような用途に使用されるか？\\n\\nNVIDIA Shieldの主な機能は何か？\\n\\nオートモーティブ分野でグラフィックカードはどのように活用されるか？\\n\\nプロフェッショナルビジュアライゼーションに最適なGPUは何か？\\n\\nグラフィックカードの性能を向上させる方法は何か？\\n\\nディープラーニングとGPUの関係は何か？']\n"
     ]
    }
   ],
   "source": [
    "# generate questions of sub topics\n",
    "async def generate_questions(client, sub_topic, n_questions):\n",
    "    prompt = QUESTION_PROMPT_TEMPLATE.format(\n",
    "        sub_topic=sub_topic, n_questions=n_questions\n",
    "    )\n",
    "    response = await client.chat.completions.create(\n",
    "        model=\"meta/llama-3.1-405b-instruct\",\n",
    "        messages=[{\"role\": \"user\", \"content\": prompt}],\n",
    "        temperature=0.2,\n",
    "        top_p=0.7,\n",
    "        max_tokens=1024,\n",
    "    )\n",
    "    if hasattr(response, \"choices\") and response.choices:\n",
    "        return response.choices[0].message.content\n",
    "    else:\n",
    "        print(f\"Unexpected response structure: {response}\")\n",
    "        return None\n",
    "\n",
    "\n",
    "async def question_generator(client, subtopic_list, n_question):\n",
    "    tasks = [\n",
    "        generate_questions(client, subtopic, n_question) for subtopic in subtopic_list\n",
    "    ]\n",
    "    question_list = await asyncio.gather(*tasks)\n",
    "    return question_list\n",
    "\n",
    "\n",
    "nest_asyncio.apply()\n",
    "question_list = asyncio.run(question_generator(client, subtopic_list, n_questions))\n",
    "print(question_list)\n",
    "\n",
    "# format questions\n",
    "question_list_formatted = []\n",
    "for question_set in question_list:\n",
    "    question_list_formatted += question_set.split(\"\\n\\n\")"
   ]
  },
  {
   "cell_type": "markdown",
   "metadata": {},
   "source": [
    "### 質問文に対して回答文を生成"
   ]
  },
  {
   "cell_type": "code",
   "execution_count": null,
   "metadata": {},
   "outputs": [
    {
     "name": "stdout",
     "output_type": "stream",
     "text": [
      "['RESPONSE A: グラフィックカードの主な機能は、コンピュータの画面に画像を表示することです。グラフィックカードは、コンピュータのCPUから画像データを受け取り、画像を処理して画面に表示します。\\n\\nRESPONSE B: グラフィックカードの主な機能は、コンピュータのゲームやグラフィック処理を高速化することです。グラフィックカードは、専用のGPU（Graphics Processing Unit）を搭載しており、グラフィック処理を高速化するために設計されています。', 'RESPONSE A: 人工知能（AI）とディープラーニング（DL）は、関連しているが異なる概念です。人工知能は、人間の知能を模倣するコンピューターシステムの開発を目指す広範な分野であり、機械学習、自然言語処理、ロボット工学などを含みます。一方、ディープラーニングは、人工知能の一部であり、ニューラルネットワークを使用してデータから学習し、特徴を抽出する手法です。ディープラーニングは、画像認識、音声認識、自然言語処理などのタスクに特に有効です。\\n\\nRESPONSE B: 人工知能とディープラーニングの主な違いは、範囲とアプローチにあります。人工知能は、人間の知能をコンピューターで再現することを目指す包括的な分野であり、推論、問題解決、学習などを含みます。ディープラーニングは、人工知能の一部であり、複数の層を持つニューラルネットワークを使用して、データから複雑なパターンを学習し、特徴を抽出します。ディープラーニングは、特に大量のデータを必要とするタスクに適しており、画像認識、音声認識、自然言語処理などの分野で広く使用されています。', 'RESPONSE A: NVIDIA GeForce RTX 3080は、ゲーミングに最適なGPUです。高性能、高速なフレームレート、そしてAIを活用したグラフィックス処理機能を備えています。\\n\\nRESPONSE B: AMD Radeon RX 6800 XTは、ゲーミングに最適なGPUです。高性能、高速なフレームレート、そして多くのゲームでNVIDIA GeForce RTX 3080と同等のパフォーマンスを提供します。', 'RESPONSE A: CUDAは、NVIDIAが開発した並列コンピューティングプラットフォームおよびプログラミングモデルであり、GPUを使用して高速な計算処理を実現します。\\n\\nRESPONSE B: CUDAは、NVIDIAのGPU上で動作する並列処理アーキテクチャであり、開発者がGPUの並列処理能力を活用して高速なアプリケーションを開発できるようにします。', 'RESPONSE A: TensorFlowは、主に機械学習とディープラーニングのモデルを開発するために使用されます。画像認識、自然言語処理、音声認識などの用途に適しています。\\n\\nRESPONSE B: TensorFlowは、データ分析、予測分析、自動運転車の開発、ロボット工学、ヘルスケアの分野など、幅広い用途に使用されます。', 'RESPONSE A: NVIDIA Shieldは主にゲームストリーミングデバイスとして機能し、PCやクラウドから高品質のゲームをストリーミングすることができます。\\nRESPONSE B: NVIDIA Shieldは主にメディアプレーヤーとして機能し、ユーザーがさまざまなストリーミングサービスからビデオや音楽を視聴できるようにします。', 'RESPONSE A: 自動運転車の開発に使用されるシミュレーションソフトウェアで、グラフィックカードは大量のデータ処理を高速化します。\\nRESPONSE B: 車載インフォテインメントシステムで、グラフィックカードは高品質のグラフィックと映像を表示するために使用されます。', 'RESPONSE A: NVIDIA GeForce RTX 3080は、プロフェッショナルビジュアライゼーションに最適なGPUです。強力なパフォーマンスと高度なグラフィックス機能を備え、複雑なグラフィックスやビジュアライゼーションをスムーズに処理できます。\\n\\nRESPONSE B: AMD Radeon Pro WX 8200は、プロフェッショナルビジュアライゼーションに最適なGPUです。高性能のグラフィックス処理能力と多くのメモリを備え、デザイン、エンジニアリング、ビジュアライゼーションの分野で優れたパフォーマンスを発揮します。', 'RESPONSE A: グラフィックカードの性能を向上させる方法として、ドライバーの更新が挙げられます。グラフィックカードのメーカーは定期的にドライバーを更新しており、これにより新しいゲームやアプリケーションに対応したり、バグを修正したり、性能を向上させたりすることができます。\\n\\nRESPONSE B: グラフィックカードの性能を向上させる方法として、オーバークロックが挙げられます。オーバークロックとは、グラフィックカードのクロック速度を通常の速度よりも高く設定することにより、処理能力を向上させる方法です。ただし、オーバークロックにはリスクも伴い、グラフィックカードの寿命を縮めたり、システムの不安定性を招いたりする可能性があります。', 'RESPONSE A: ディープラーニングは、多層のニューラルネットワークを使用してデータを分析する機械学習の一種です。GPU（Graphics Processing Unit）は、ディープラーニングの計算を高速化するために使用されます。GPUの並列処理能力により、ディープラーニングの計算を効率的に行うことができます。\\n\\nRESPONSE B: ディープラーニングとGPUの関係は、相互に依存している関係です。ディープラーニングは大量の計算を必要とするため、GPUの高速な計算能力が必要です。一方、GPUはディープラーニングの計算を高速化するために設計されており、ディープラーニングの発展に大きく貢献しています。']\n"
     ]
    }
   ],
   "source": [
    "# generate response of each question\n",
    "async def generate_responses(client, question):\n",
    "    prompt = RESPONSE_PROMPT_TEMPLATE.format(question=question)\n",
    "    response = await client.chat.completions.create(\n",
    "        model=\"meta/llama-3.1-405b-instruct\",\n",
    "        messages=[{\"role\": \"user\", \"content\": prompt}],\n",
    "        temperature=0.2,\n",
    "        top_p=0.7,\n",
    "        max_tokens=1024,\n",
    "    )\n",
    "    if hasattr(response, \"choices\") and response.choices:\n",
    "        return response.choices[0].message.content\n",
    "    else:\n",
    "        print(f\"Unexpected response structure: {response}\")\n",
    "        return None\n",
    "\n",
    "\n",
    "async def response_generator(client, question_list):\n",
    "    tasks = [generate_responses(client, question) for question in question_list]\n",
    "    response_list = await asyncio.gather(*tasks)\n",
    "    return response_list\n",
    "\n",
    "\n",
    "question_response_list = asyncio.run(\n",
    "    response_generator(client, question_list_formatted)\n",
    ")\n",
    "\n",
    "\n",
    "print(question_response_list)"
   ]
  },
  {
   "cell_type": "markdown",
   "metadata": {},
   "source": [
    "### 質問文と回答文をまとめたリストを作成"
   ]
  },
  {
   "cell_type": "code",
   "execution_count": null,
   "metadata": {},
   "outputs": [],
   "source": [
    "question_response_pair_list = []\n",
    "for question, response_set in zip(question_list_formatted, question_response_list):\n",
    "    question_response_pair_list.append(\n",
    "        {\n",
    "            \"question\": question,\n",
    "            \"responses\": {\n",
    "                \"response_a\": {\n",
    "                    \"response\": response_set.split(\"RESPONSE B:\")[0]\n",
    "                    .replace(\"RESPONSE A:\", \"\")\n",
    "                    .strip()\n",
    "                    .split(\"\\n\\n\")[-1]\n",
    "                    .strip()\n",
    "                },\n",
    "                \"response_b\": {\n",
    "                    \"response\": response_set.split(\"RESPONSE B:\")[-1]\n",
    "                    .split(\"\\n\\n\")[0]\n",
    "                    .strip()\n",
    "                },\n",
    "            },\n",
    "        }\n",
    "    )"
   ]
  },
  {
   "cell_type": "markdown",
   "metadata": {},
   "source": [
    "### 質問文と回答文から回答の性能評価"
   ]
  },
  {
   "cell_type": "code",
   "execution_count": 39,
   "metadata": {},
   "outputs": [
    {
     "name": "stdout",
     "output_type": "stream",
     "text": [
      "[{'question': 'グラフィックカードの主な機能は何か？', 'responses': {'response_a': {'response': 'グラフィックカードの主な機能は、コンピュータの画面に画像を表示することです。グラフィックカードは、コンピュータのCPUから画像データを受け取り、画像を処理して画面に表示します。', 'helpfulness': 2.796875, 'correctness': 3.03125, 'coherence': 3.8125, 'complexity': 1.3046875, 'verbosity': 1.125}, 'response_b': {'response': 'グラフィックカードの主な機能は、コンピュータのゲームやグラフィック処理を高速化することです。グラフィックカードは、専用のGPU（Graphics Processing Unit）を搭載しており、グラフィック処理を高速化するために設計されています。', 'helpfulness': 2.828125, 'correctness': 3.09375, 'coherence': 3.890625, 'complexity': 1.546875, 'verbosity': 1.328125}}}, {'question': '人工知能とディープラーニングの違いは何か？', 'responses': {'response_a': {'response': '人工知能（AI）とディープラーニング（DL）は、関連しているが異なる概念です。人工知能は、人間の知能を模倣するコンピューターシステムの開発を目指す広範な分野であり、機械学習、自然言語処理、ロボット工学などを含みます。一方、ディープラーニングは、人工知能の一部であり、ニューラルネットワークを使用してデータから学習し、特徴を抽出する手法です。ディープラーニングは、画像認識、音声認識、自然言語処理などのタスクに特に有効です。', 'helpfulness': 3.4375, 'correctness': 3.59375, 'coherence': 3.984375, 'complexity': 1.6796875, 'verbosity': 1.796875}, 'response_b': {'response': '人工知能とディープラーニングの主な違いは、範囲とアプローチにあります。人工知能は、人間の知能をコンピューターで再現することを目指す包括的な分野であり、推論、問題解決、学習などを含みます。ディープラーニングは、人工知能の一部であり、複数の層を持つニューラルネットワークを使用して、データから複雑なパターンを学習し、特徴を抽出します。ディープラーニングは、特に大量のデータを必要とするタスクに適しており、画像認識、音声認識、自然言語処理などの分野で広く使用されています。', 'helpfulness': 3.375, 'correctness': 3.46875, 'coherence': 3.890625, 'complexity': 1.640625, 'verbosity': 1.8984375}}}, {'question': 'ゲーミングに最適なGPUは何か？', 'responses': {'response_a': {'response': 'NVIDIA GeForce RTX 3080は、ゲーミングに最適なGPUです。高性能、高速なフレームレート、そしてAIを活用したグラフィックス処理機能を備えています。', 'helpfulness': 3.078125, 'correctness': 3.140625, 'coherence': 3.671875, 'complexity': 1.390625, 'verbosity': 1.078125}, 'response_b': {'response': 'AMD Radeon RX 6800 XTは、ゲーミングに最適なGPUです。高性能、高速なフレームレート、そして多くのゲームでNVIDIA GeForce RTX 3080と同等のパフォーマンスを提供します。', 'helpfulness': 2.1875, 'correctness': 2.375, 'coherence': 3.4375, 'complexity': 1.2109375, 'verbosity': 0.98046875}}}, {'question': 'CUDAとは何か？', 'responses': {'response_a': {'response': 'CUDAは、NVIDIAが開発した並列コンピューティングプラットフォームおよびプログラミングモデルであり、GPUを使用して高速な計算処理を実現します。', 'helpfulness': 2.53125, 'correctness': 2.828125, 'coherence': 3.640625, 'complexity': 1.34375, 'verbosity': 0.5546875}, 'response_b': {'response': 'CUDAは、NVIDIAのGPU上で動作する並列処理アーキテクチャであり、開発者がGPUの並列処理能力を活用して高速なアプリケーションを開発できるようにします。', 'helpfulness': 2.78125, 'correctness': 3.09375, 'coherence': 3.640625, 'complexity': 1.546875, 'verbosity': 0.82421875}}}, {'question': 'TensorFlowはどのような用途に使用されるか？', 'responses': {'response_a': {'response': 'TensorFlowは、主に機械学習とディープラーニングのモデルを開発するために使用されます。画像認識、自然言語処理、音声認識などの用途に適しています。', 'helpfulness': 3.078125, 'correctness': 3.3125, 'coherence': 3.859375, 'complexity': 1.4140625, 'verbosity': 0.953125}, 'response_b': {'response': 'TensorFlowは、データ分析、予測分析、自動運転車の開発、ロボット工学、ヘルスケアの分野など、幅広い用途に使用されます。', 'helpfulness': 2.609375, 'correctness': 2.890625, 'coherence': 3.65625, 'complexity': 1.4296875, 'verbosity': 0.9296875}}}, {'question': 'NVIDIA Shieldの主な機能は何か？', 'responses': {'response_a': {'response': 'NVIDIA Shieldは主にゲームストリーミングデバイスとして機能し、PCやクラウドから高品質のゲームをストリーミングすることができます。', 'helpfulness': 2.34375, 'correctness': 2.546875, 'coherence': 3.578125, 'complexity': 1.0078125, 'verbosity': 1.0078125}, 'response_b': {'response': 'NVIDIA Shieldは主にメディアプレーヤーとして機能し、ユーザーがさまざまなストリーミングサービスからビデオや音楽を視聴できるようにします。', 'helpfulness': 2.1875, 'correctness': 2.40625, 'coherence': 3.609375, 'complexity': 1.078125, 'verbosity': 1.1796875}}}, {'question': 'オートモーティブ分野でグラフィックカードはどのように活用されるか？', 'responses': {'response_a': {'response': '自動運転車の開発に使用されるシミュレーションソフトウェアで、グラフィックカードは大量のデータ処理を高速化します。', 'helpfulness': 2.46875, 'correctness': 2.828125, 'coherence': 3.515625, 'complexity': 1.265625, 'verbosity': 0.875}, 'response_b': {'response': '車載インフォテインメントシステムで、グラフィックカードは高品質のグラフィックと映像を表示するために使用されます。', 'helpfulness': 2.234375, 'correctness': 2.578125, 'coherence': 3.671875, 'complexity': 1.0546875, 'verbosity': 0.6875}}}, {'question': 'プロフェッショナルビジュアライゼーションに最適なGPUは何か？', 'responses': {'response_a': {'response': 'NVIDIA GeForce RTX 3080は、プロフェッショナルビジュアライゼーションに最適なGPUです。強力なパフォーマンスと高度なグラフィックス機能を備え、複雑なグラフィックスやビジュアライゼーションをスムーズに処理できます。', 'helpfulness': 2.765625, 'correctness': 2.921875, 'coherence': 3.53125, 'complexity': 1.515625, 'verbosity': 1.296875}, 'response_b': {'response': 'AMD Radeon Pro WX 8200は、プロフェッショナルビジュアライゼーションに最適なGPUです。高性能のグラフィックス処理能力と多くのメモリを備え、デザイン、エンジニアリング、ビジュアライゼーションの分野で優れたパフォーマンスを発揮します。', 'helpfulness': 2.109375, 'correctness': 2.28125, 'coherence': 3.34375, 'complexity': 1.4453125, 'verbosity': 1.1875}}}, {'question': 'グラフィックカードの性能を向上させる方法は何か？', 'responses': {'response_a': {'response': 'グラフィックカードの性能を向上させる方法として、ドライバーの更新が挙げられます。グラフィックカードのメーカーは定期的にドライバーを更新しており、これにより新しいゲームやアプリケーションに対応したり、バグを修正したり、性能を向上させたりすることができます。', 'helpfulness': 2.421875, 'correctness': 2.90625, 'coherence': 3.6875, 'complexity': 1.3671875, 'verbosity': 1.25}, 'response_b': {'response': 'グラフィックカードの性能を向上させる方法として、オーバークロックが挙げられます。オーバークロックとは、グラフィックカードのクロック速度を通常の速度よりも高く設定することにより、処理能力を向上させる方法です。ただし、オーバークロックにはリスクも伴い、グラフィックカードの寿命を縮めたり、システムの不安定性を招いたりする可能性があります。', 'helpfulness': 2.453125, 'correctness': 2.796875, 'coherence': 3.65625, 'complexity': 1.59375, 'verbosity': 1.625}}}, {'question': 'ディープラーニングとGPUの関係は何か？', 'responses': {'response_a': {'response': 'ディープラーニングは、多層のニューラルネットワークを使用してデータを分析する機械学習の一種です。GPU（Graphics Processing Unit）は、ディープラーニングの計算を高速化するために使用されます。GPUの並列処理能力により、ディープラーニングの計算を効率的に行うことができます。', 'helpfulness': 3.28125, 'correctness': 3.296875, 'coherence': 3.796875, 'complexity': 1.7734375, 'verbosity': 1.375}, 'response_b': {'response': 'ディープラーニングとGPUの関係は、相互に依存している関係です。ディープラーニングは大量の計算を必要とするため、GPUの高速な計算能力が必要です。一方、GPUはディープラーニングの計算を高速化するために設計されており、ディープラーニングの発展に大きく貢献しています。', 'helpfulness': 2.953125, 'correctness': 3.109375, 'coherence': 3.703125, 'complexity': 1.7109375, 'verbosity': 1.484375}}}]\n"
     ]
    }
   ],
   "source": [
    "# running reward scoring model to evaluate the responses\n",
    "def get_scores_from_response(openai_response_template):\n",
    "    logprobs = openai_response_template.choices[0].logprobs.content\n",
    "    score_dict = {}\n",
    "    for score in logprobs:\n",
    "        score_dict[score.token] = score.logprob\n",
    "    return score_dict\n",
    "\n",
    "\n",
    "async def get_response_and_scores(client, question, response_content):\n",
    "    messages = [\n",
    "        {\"role\": \"user\", \"content\": question},\n",
    "        {\"role\": \"assistant\", \"content\": response_content},\n",
    "    ]\n",
    "    response = await client.chat.completions.create(\n",
    "        model=\"nvidia/nemotron-4-340b-reward\",\n",
    "        messages=messages,\n",
    "    )\n",
    "    scores = get_scores_from_response(response)\n",
    "    return scores\n",
    "\n",
    "\n",
    "# scoring for question:response pair set\n",
    "async def process_question_response_pairs(client, question_response_score_list):\n",
    "    tasks = []\n",
    "    for question_response_pair in question_response_score_list:\n",
    "        question = question_response_pair[\"question\"]\n",
    "\n",
    "        task_a = get_response_and_scores(\n",
    "            client,\n",
    "            question,\n",
    "            question_response_pair[\"responses\"][\"response_a\"][\"response\"],\n",
    "        )\n",
    "        task_b = get_response_and_scores(\n",
    "            client,\n",
    "            question,\n",
    "            question_response_pair[\"responses\"][\"response_b\"][\"response\"],\n",
    "        )\n",
    "\n",
    "        tasks.append((task_a, question_response_pair, \"response_a\"))\n",
    "        tasks.append((task_b, question_response_pair, \"response_b\"))\n",
    "    results = await asyncio.gather(*[task[0] for task in tasks])\n",
    "\n",
    "    for i, (result, task_info) in enumerate(zip(results, tasks)):\n",
    "        _, question_response_pair, response_key = task_info\n",
    "        question_response_pair[\"responses\"][response_key].update(result)\n",
    "\n",
    "\n",
    "question_response_score_list = question_response_pair_list.copy()\n",
    "await process_question_response_pairs(client, question_response_score_list)\n",
    "print(question_response_score_list)"
   ]
  },
  {
   "cell_type": "code",
   "execution_count": 41,
   "metadata": {},
   "outputs": [
    {
     "data": {
      "text/plain": [
       "[{'question': 'グラフィックカードの主な機能は何か？',\n",
       "  'responses': {'response_a': {'response': 'グラフィックカードの主な機能は、コンピュータの画面に画像を表示することです。グラフィックカードは、コンピュータのCPUから画像データを受け取り、画像を処理して画面に表示します。'},\n",
       "   'response_b': {'response': 'グラフィックカードの主な機能は、コンピュータのゲームやグラフィック処理を高速化することです。グラフィックカードは、専用のGPU（Graphics Processing Unit）を搭載しており、グラフィック処理を高速化するために設計されています。'}}},\n",
       " {'question': '人工知能とディープラーニングの違いは何か？',\n",
       "  'responses': {'response_a': {'response': '人工知能（AI）とディープラーニング（DL）は、関連しているが異なる概念です。人工知能は、人間の知能を模倣するコンピューターシステムの開発を目指す広範な分野であり、機械学習、自然言語処理、ロボット工学などを含みます。一方、ディープラーニングは、人工知能の一部であり、ニューラルネットワークを使用してデータから学習し、特徴を抽出する手法です。ディープラーニングは、画像認識、音声認識、自然言語処理などのタスクに特に有効です。'},\n",
       "   'response_b': {'response': '人工知能とディープラーニングの主な違いは、範囲とアプローチにあります。人工知能は、人間の知能をコンピューターで再現することを目指す包括的な分野であり、推論、問題解決、学習などを含みます。ディープラーニングは、人工知能の一部であり、複数の層を持つニューラルネットワークを使用して、データから複雑なパターンを学習し、特徴を抽出します。ディープラーニングは、特に大量のデータを必要とするタスクに適しており、画像認識、音声認識、自然言語処理などの分野で広く使用されています。'}}},\n",
       " {'question': 'ゲーミングに最適なGPUは何か？',\n",
       "  'responses': {'response_a': {'response': 'NVIDIA GeForce RTX 3080は、ゲーミングに最適なGPUです。高性能、高速なフレームレート、そしてAIを活用したグラフィックス処理機能を備えています。'},\n",
       "   'response_b': {'response': 'AMD Radeon RX 6800 XTは、ゲーミングに最適なGPUです。高性能、高速なフレームレート、そして多くのゲームでNVIDIA GeForce RTX 3080と同等のパフォーマンスを提供します。'}}},\n",
       " {'question': 'CUDAとは何か？',\n",
       "  'responses': {'response_a': {'response': 'CUDAは、NVIDIAが開発した並列コンピューティングプラットフォームおよびプログラミングモデルであり、GPUを使用して高速な計算処理を実現します。'},\n",
       "   'response_b': {'response': 'CUDAは、NVIDIAのGPU上で動作する並列処理アーキテクチャであり、開発者がGPUの並列処理能力を活用して高速なアプリケーションを開発できるようにします。'}}},\n",
       " {'question': 'TensorFlowはどのような用途に使用されるか？',\n",
       "  'responses': {'response_a': {'response': 'TensorFlowは、主に機械学習とディープラーニングのモデルを開発するために使用されます。画像認識、自然言語処理、音声認識などの用途に適しています。'},\n",
       "   'response_b': {'response': 'TensorFlowは、データ分析、予測分析、自動運転車の開発、ロボット工学、ヘルスケアの分野など、幅広い用途に使用されます。'}}},\n",
       " {'question': 'NVIDIA Shieldの主な機能は何か？',\n",
       "  'responses': {'response_a': {'response': 'NVIDIA Shieldは主にゲームストリーミングデバイスとして機能し、PCやクラウドから高品質のゲームをストリーミングすることができます。'},\n",
       "   'response_b': {'response': 'NVIDIA Shieldは主にメディアプレーヤーとして機能し、ユーザーがさまざまなストリーミングサービスからビデオや音楽を視聴できるようにします。'}}},\n",
       " {'question': 'オートモーティブ分野でグラフィックカードはどのように活用されるか？',\n",
       "  'responses': {'response_a': {'response': '自動運転車の開発に使用されるシミュレーションソフトウェアで、グラフィックカードは大量のデータ処理を高速化します。'},\n",
       "   'response_b': {'response': '車載インフォテインメントシステムで、グラフィックカードは高品質のグラフィックと映像を表示するために使用されます。'}}},\n",
       " {'question': 'プロフェッショナルビジュアライゼーションに最適なGPUは何か？',\n",
       "  'responses': {'response_a': {'response': 'NVIDIA GeForce RTX 3080は、プロフェッショナルビジュアライゼーションに最適なGPUです。強力なパフォーマンスと高度なグラフィックス機能を備え、複雑なグラフィックスやビジュアライゼーションをスムーズに処理できます。'},\n",
       "   'response_b': {'response': 'AMD Radeon Pro WX 8200は、プロフェッショナルビジュアライゼーションに最適なGPUです。高性能のグラフィックス処理能力と多くのメモリを備え、デザイン、エンジニアリング、ビジュアライゼーションの分野で優れたパフォーマンスを発揮します。'}}},\n",
       " {'question': 'グラフィックカードの性能を向上させる方法は何か？',\n",
       "  'responses': {'response_a': {'response': 'グラフィックカードの性能を向上させる方法として、ドライバーの更新が挙げられます。グラフィックカードのメーカーは定期的にドライバーを更新しており、これにより新しいゲームやアプリケーションに対応したり、バグを修正したり、性能を向上させたりすることができます。'},\n",
       "   'response_b': {'response': 'グラフィックカードの性能を向上させる方法として、オーバークロックが挙げられます。オーバークロックとは、グラフィックカードのクロック速度を通常の速度よりも高く設定することにより、処理能力を向上させる方法です。ただし、オーバークロックにはリスクも伴い、グラフィックカードの寿命を縮めたり、システムの不安定性を招いたりする可能性があります。'}}},\n",
       " {'question': 'ディープラーニングとGPUの関係は何か？',\n",
       "  'responses': {'response_a': {'response': 'ディープラーニングは、多層のニューラルネットワークを使用してデータを分析する機械学習の一種です。GPU（Graphics Processing Unit）は、ディープラーニングの計算を高速化するために使用されます。GPUの並列処理能力により、ディープラーニングの計算を効率的に行うことができます。'},\n",
       "   'response_b': {'response': 'ディープラーニングとGPUの関係は、相互に依存している関係です。ディープラーニングは大量の計算を必要とするため、GPUの高速な計算能力が必要です。一方、GPUはディープラーニングの計算を高速化するために設計されており、ディープラーニングの発展に大きく貢献しています。'}}}]"
      ]
     },
     "execution_count": 41,
     "metadata": {},
     "output_type": "execute_result"
    }
   ],
   "source": [
    "question_response_pair_list"
   ]
  },
  {
   "cell_type": "code",
   "execution_count": null,
   "metadata": {},
   "outputs": [],
   "source": []
  }
 ],
 "metadata": {
  "kernelspec": {
   "display_name": "Python 3",
   "language": "python",
   "name": "python3"
  },
  "language_info": {
   "codemirror_mode": {
    "name": "ipython",
    "version": 3
   },
   "file_extension": ".py",
   "mimetype": "text/x-python",
   "name": "python",
   "nbconvert_exporter": "python",
   "pygments_lexer": "ipython3",
   "version": "3.12.4"
  }
 },
 "nbformat": 4,
 "nbformat_minor": 2
}
